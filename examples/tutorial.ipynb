{
 "cells": [
  {
   "cell_type": "markdown",
   "metadata": {},
   "source": [
    "# `transformnd` tutorial\n",
    "\n",
    "`transformnd` is a python library which provides implementations of coordinate transformations, base classes to ensure a consistent API across implementations, and utilities for combining and working with those coordinate transformations.\n",
    "\n",
    "First, define a basic shape, and make a function for plotting it:"
   ]
  },
  {
   "cell_type": "code",
   "execution_count": 1,
   "metadata": {
    "execution": {
     "iopub.execute_input": "2022-07-28T15:33:34.621271Z",
     "iopub.status.busy": "2022-07-28T15:33:34.620035Z",
     "iopub.status.idle": "2022-07-28T15:33:35.356345Z",
     "shell.execute_reply": "2022-07-28T15:33:35.355745Z"
    }
   },
   "outputs": [
    {
     "data": {
      "image/png": "[encoded data removed]",
      "text/plain": [
       "<Figure size 432x288 with 1 Axes>"
      ]
     },
     "metadata": {
      "needs_background": "light"
     },
     "output_type": "display_data"
    }
   ],
   "source": [
    "%matplotlib inline\n",
    "import numpy as np\n",
    "from matplotlib import pyplot as plt\n",
    "from matplotlib.patches import Polygon\n",
    "\n",
    "rng = np.random.default_rng(1991)\n",
    "\n",
    "# Array of N coordinates in D dimensions has shape NxD\n",
    "square = np.array(\n",
    "    [\n",
    "        [0, 0],\n",
    "        [0, 1],\n",
    "        [1, 1],\n",
    "        [1, 0],\n",
    "    ]\n",
    ")\n",
    "\n",
    "\n",
    "def plot_shape(**kwargs):\n",
    "    \"\"\"Draw a labelled polygon from kwargs like name=coords.\"\"\"\n",
    "    ax = plt.gca()\n",
    "    min_ = -1\n",
    "    max_ = 3\n",
    "    ax.set_xlim(min_, max_)\n",
    "    ax.set_ylim(min_, max_)\n",
    "    ax.hlines(0, min_, max_, colors=\"k\")\n",
    "    ax.vlines(0, min_, max_, colors=\"k\")\n",
    "    ax.set_aspect(\"equal\")\n",
    "    sq = Polygon(square, closed=False, color=\"grey\", label=\"original\")\n",
    "    ax.add_patch(sq)\n",
    "\n",
    "    cmap = plt.get_cmap(\"tab10\")\n",
    "\n",
    "    for idx, (name, coords) in enumerate(kwargs.items()):\n",
    "        poly = Polygon(coords, closed=False, label=name, color=cmap(idx))\n",
    "        ax.add_patch(poly)\n",
    "    plt.legend()\n",
    "\n",
    "\n",
    "plot_shape()"
   ]
  },
  {
   "cell_type": "markdown",
   "metadata": {},
   "source": [
    "Now we'll add some basic transformations.\n",
    "\n",
    "Transformations are subclasses of the `Transform` abstract base class.\n",
    "Once the transformation is instantiated, it can be used just like a function, transforming a numpy array of coordinates into a new numpy array.\n"
   ]
  },
  {
   "cell_type": "code",
   "execution_count": 2,
   "metadata": {
    "execution": {
     "iopub.execute_input": "2022-07-28T15:33:35.388816Z",
     "iopub.status.busy": "2022-07-28T15:33:35.388568Z",
     "iopub.status.idle": "2022-07-28T15:33:35.492043Z",
     "shell.execute_reply": "2022-07-28T15:33:35.491497Z"
    }
   },
   "outputs": [
    {
     "data": {
      "image/png": "[encoded data removed]",
      "text/plain": [
       "<Figure size 432x288 with 1 Axes>"
      ]
     },
     "metadata": {
      "needs_background": "light"
     },
     "output_type": "display_data"
    }
   ],
   "source": [
    "from transformnd.transforms.simple import Translate, Scale\n",
    "\n",
    "translate = Translate([1.5, 0])\n",
    "scale = Scale([0.5, 2])\n",
    "\n",
    "plot_shape(\n",
    "    translated=translate(square),\n",
    "    scaled=scale(square),\n",
    ")"
   ]
  },
  {
   "cell_type": "markdown",
   "metadata": {},
   "source": [
    "## `TransformSequence`\n",
    "\n",
    "Transforms can be chained together into a single transformation, with the `TransformSequence` class."
   ]
  },
  {
   "cell_type": "code",
   "execution_count": 3,
   "metadata": {
    "execution": {
     "iopub.execute_input": "2022-07-28T15:33:35.494312Z",
     "iopub.status.busy": "2022-07-28T15:33:35.494091Z",
     "iopub.status.idle": "2022-07-28T15:33:35.595012Z",
     "shell.execute_reply": "2022-07-28T15:33:35.594455Z"
    }
   },
   "outputs": [
    {
     "data": {
      "image/png": "[encoded data removed]",
      "text/plain": [
       "<Figure size 432x288 with 1 Axes>"
      ]
     },
     "metadata": {
      "needs_background": "light"
     },
     "output_type": "display_data"
    }
   ],
   "source": [
    "from transformnd import TransformSequence\n",
    "\n",
    "scale_then_translate = TransformSequence([scale, translate])\n",
    "\n",
    "plot_shape(\n",
    "    translated=translate(square),\n",
    "    scaled=scale(square),\n",
    "    scaled_then_translated=scale_then_translate(square),\n",
    ")"
   ]
  },
  {
   "cell_type": "markdown",
   "metadata": {},
   "source": [
    "## Composing and inverting transformations\n",
    "\n",
    "Certain transformations can be inverted with the `~` operator.\n",
    "\n",
    "`TransformSequences` can also be constructed with the `|` operator."
   ]
  },
  {
   "cell_type": "code",
   "execution_count": 4,
   "metadata": {
    "execution": {
     "iopub.execute_input": "2022-07-28T15:33:35.597332Z",
     "iopub.status.busy": "2022-07-28T15:33:35.597136Z",
     "iopub.status.idle": "2022-07-28T15:33:35.713117Z",
     "shell.execute_reply": "2022-07-28T15:33:35.712569Z"
    }
   },
   "outputs": [
    {
     "data": {
      "image/png": "[encoded data removed]",
      "text/plain": [
       "<Figure size 432x288 with 1 Axes>"
      ]
     },
     "metadata": {
      "needs_background": "light"
     },
     "output_type": "display_data"
    }
   ],
   "source": [
    "translate_scale = translate | scale\n",
    "# Note that translate -> scale gives different results to scale -> translate above\n",
    "# because the scaling is done around (0, 0)\n",
    "\n",
    "undo_translate_scale = ~translate_scale\n",
    "\n",
    "plot_shape(\n",
    "    translated_scaled=translate_scale(square),\n",
    "    undone=undo_translate_scale(translate_scale(square)),\n",
    ")"
   ]
  },
  {
   "cell_type": "markdown",
   "metadata": {},
   "source": [
    "## Affine transformations\n",
    "\n",
    "A common class of coordinate transformations are affine transformations.\n",
    "These require a transformation matrix which then multiplies the coordinate array.\n",
    "`transformnd` provides convenience methods for constructing this transformation matrix out of common operations: translations, scales, reflections, rotations, and shears.\n",
    "\n",
    "Because this all uses matrix multiplication under the hood, `AffineTransform` instances can be composed using the matrix multiplication operator `@` rather than needing to apply the transforms one at a time in a `TransformSequence`.\n",
    "\n",
    "Affine transformations are invertible."
   ]
  },
  {
   "cell_type": "code",
   "execution_count": 5,
   "metadata": {
    "execution": {
     "iopub.execute_input": "2022-07-28T15:33:35.715445Z",
     "iopub.status.busy": "2022-07-28T15:33:35.715234Z",
     "iopub.status.idle": "2022-07-28T15:33:35.821585Z",
     "shell.execute_reply": "2022-07-28T15:33:35.820982Z"
    }
   },
   "outputs": [
    {
     "data": {
      "image/png": "[encoded data removed]",
      "text/plain": [
       "<Figure size 432x288 with 1 Axes>"
      ]
     },
     "metadata": {
      "needs_background": "light"
     },
     "output_type": "display_data"
    }
   ],
   "source": [
    "from transformnd.transforms.affine import AffineTransform\n",
    "\n",
    "tran = AffineTransform.translation([1, 0])\n",
    "rot = AffineTransform.rotation2(45)  # Only 2D and 3D are implemented\n",
    "sca = AffineTransform.scaling([1.5, 1])\n",
    "tran_rot_sca = tran @ rot @ sca\n",
    "\n",
    "plot_shape(\n",
    "    translated=tran(square),\n",
    "    rotated=rot(square),\n",
    "    scaled=sca(square),\n",
    "    translated_rotated_scaled=tran_rot_sca(square),\n",
    ")"
   ]
  },
  {
   "cell_type": "markdown",
   "metadata": {},
   "source": [
    "## Spaces and bridging transforms\n",
    "\n",
    "A common task in coordinate transformation is to convert coordinates in one space (e.g. a pixel index of an image) into some other space (e.g. a location in \"world\" space, using the image's resolution and offset).\n",
    "\n",
    "All `Transform`s can take the keyword arguments `spaces` on instantiation, which is a tuple of two hashable values (e.g. a string or number).\n",
    "If not `None`, these values act as a reference to the spaces the transform goes from and to respectively.\n",
    "This makes it easier to reason about what space the coordinates start and end in.\n",
    "\n",
    "`TransformSequence` instances check that consecutive transforms in the sequence refer to consistent spaces (if spaces are defined).\n",
    "They will also use a transform with a defined target space to infer the source space of the next transform, if undefined.\n",
    "\n",
    "Once you have a set of transforms between different defined spaces, you can do bridging transforms: calculating how to get from one space to another by applying some subset of those transforms in sequence.\n",
    "This uses the `TransformGraph` class (requires `networkx`).\n",
    "\n",
    "The `TransformGraph` will automatically unpack any transforms inside sequences (if they have spaces defined), and infer inverse transforms where possible."
   ]
  },
  {
   "cell_type": "code",
   "execution_count": 6,
   "metadata": {
    "execution": {
     "iopub.execute_input": "2022-07-28T15:33:35.823880Z",
     "iopub.status.busy": "2022-07-28T15:33:35.823666Z",
     "iopub.status.idle": "2022-07-28T15:33:35.871958Z",
     "shell.execute_reply": "2022-07-28T15:33:35.871372Z"
    }
   },
   "outputs": [
    {
     "name": "stdout",
     "output_type": "stream",
     "text": [
      "Transform sequence from a to c: TransformSequence[a->b->c]\n",
      "Transform sequence from d to a: TransformSequence[d->b->a]\n"
     ]
    }
   ],
   "source": [
    "from transformnd.graph import TransformGraph\n",
    "\n",
    "g = TransformGraph()\n",
    "ab = Scale(2, spaces=(\"a\", \"b\"))\n",
    "bc = Translate([0.5, 1], spaces=(\"b\", \"c\"))\n",
    "bd = Translate([1, 0.5], spaces=(\"b\", \"d\"))\n",
    "\n",
    "g.add_transforms([ab, bc, bd])\n",
    "\n",
    "print(\"Transform sequence from a to c:\", g.get_sequence(\"a\", \"c\"))\n",
    "\n",
    "print(\"Transform sequence from d to a:\", g.get_sequence(\"d\", \"a\"))"
   ]
  },
  {
   "cell_type": "markdown",
   "metadata": {},
   "source": [
    "## Making your own `Transform`\n",
    "\n",
    "There are many different types of transformation, which have been implemented in many different ways in many different libraries.\n",
    "`transformnd` makes it easy to bring lots of different implementations under one interface, which can then make use of the same composition tools.\n",
    "\n",
    "`Transform` is an abstract base class with a number of utility methods already implemented.\n",
    "At a minimum, you just need to subclass it and implement the `.__call__` method.\n",
    "If your transformation is only defined for certain dimensionalities, that can also be specified: use the `._validate_coords` method to check that passed-in coordinates are of the right shape. [1]\n",
    "\n",
    "You can also optionally implement `.__invert__`, if the transformation is invertible.\n",
    "\n",
    "[1]: N.B. `TransformSequence` and `TransformGraph` both ensure that their component transforms have compatible dimensionalities."
   ]
  },
  {
   "cell_type": "code",
   "execution_count": 7,
   "metadata": {
    "execution": {
     "iopub.execute_input": "2022-07-28T15:33:35.874266Z",
     "iopub.status.busy": "2022-07-28T15:33:35.874112Z",
     "iopub.status.idle": "2022-07-28T15:33:35.878685Z",
     "shell.execute_reply": "2022-07-28T15:33:35.878088Z"
    }
   },
   "outputs": [],
   "source": [
    "from transformnd import Transform\n",
    "\n",
    "\n",
    "class IsotropicScale2d(Transform):\n",
    "    ndim = {2}  # a set of valid dimensionalities\n",
    "\n",
    "    def __init__(self, factor: float, *, spaces=(None, None)):\n",
    "        # ensure the spaces are handled properly\n",
    "        super().__init__(spaces=spaces)\n",
    "        self.factor = factor\n",
    "\n",
    "    def __call__(self, coords: np.ndarray) -> np.ndarray:\n",
    "        # ensure the coordinates are of the right shape\n",
    "        self._validate_coords(coords)\n",
    "        return coords * self.factor\n",
    "\n",
    "    def __invert__(self):\n",
    "        return IsotropicScale2d(\n",
    "            1 / self.factor,\n",
    "            spaces=self.spaces[::-1],\n",
    "        )"
   ]
  },
  {
   "cell_type": "markdown",
   "metadata": {},
   "source": [
    "## Adapters\n",
    "\n",
    "Lots of objects have coordinates, but many other features too.\n",
    "`transformnd` makes it easy to transform arbitrary python objects like this using adapters.\n",
    "Basically, you define a subclass of `transformnd.adapters.BaseAdapter` and implement `.__call__`, which takes a transform and an object.\n",
    "This method will get coordinates from the object, and construct a new one from the transformed coordinates and the old object.\n",
    "\n",
    "For cases where an object has transformable attributes, there is the `AttrAdapter`, which takes key-value pairs of the name of the transformable attribute, and an adapter which knows how to apply a transform to that attribute.\n",
    "Cases where the attribute is just a coordinate array can use the `NullAdapter`.\n",
    "\n",
    "If you're going to use the same adapter-transform combination a lot, you can use `Adapter.partial` to create a callable representing that combination.\n",
    "\n",
    "When writing your own `Adapter`, consider giving the `__call__` method an `in_place` keyword argument if you have the option of modifying the existing object rather than creating a new one.\n",
    "`AttrAdapter`s which compose over other adapters will save themselves some copying by using this argument intelligently."
   ]
  },
  {
   "cell_type": "code",
   "execution_count": 8,
   "metadata": {
    "execution": {
     "iopub.execute_input": "2022-07-28T15:33:35.880828Z",
     "iopub.status.busy": "2022-07-28T15:33:35.880683Z",
     "iopub.status.idle": "2022-07-28T15:33:35.885714Z",
     "shell.execute_reply": "2022-07-28T15:33:35.885162Z"
    }
   },
   "outputs": [],
   "source": [
    "from dataclasses import dataclass\n",
    "from transformnd.adapters import AttrAdapter, NullAdapter\n",
    "\n",
    "\n",
    "@dataclass\n",
    "class Town:\n",
    "    houses: np.ndarray\n",
    "    shops: np.ndarray\n",
    "\n",
    "\n",
    "my_town = Town(\n",
    "    houses=rng.random((5, 2)),\n",
    "    shops=rng.random((3, 2)),\n",
    ")\n",
    "\n",
    "town_adapter = AttrAdapter(houses=NullAdapter(), shops=NullAdapter())\n",
    "translated_town = town_adapter(translate, my_town)\n",
    "\n",
    "town_translator = town_adapter.partial(translate)\n",
    "translated_town_2 = town_translator(translated_town)"
   ]
  },
  {
   "cell_type": "markdown",
   "metadata": {},
   "source": [
    "`transformnd` includes adapters for instances of `meshio.Mesh`, `pandas.DataFrame` (where certain columns make up a coordinate array), and geometries from `shapely`."
   ]
  },
  {
   "cell_type": "code",
   "execution_count": 9,
   "metadata": {
    "execution": {
     "iopub.execute_input": "2022-07-28T15:33:35.887618Z",
     "iopub.status.busy": "2022-07-28T15:33:35.887449Z",
     "iopub.status.idle": "2022-07-28T15:33:36.000415Z",
     "shell.execute_reply": "2022-07-28T15:33:35.999956Z"
    }
   },
   "outputs": [
    {
     "name": "stdout",
     "output_type": "stream",
     "text": [
      "original\n",
      "          x         y         z    radius    weight\n",
      "0  0.314352  0.800733  0.769685  0.907889  0.412342\n",
      "1  0.459742  0.784901  0.305377  0.624878  0.631839\n",
      "2  0.836611  0.709329  0.364073  0.129201  0.370548\n",
      "\n",
      "scaled\n",
      "          x         y          z    radius    weight\n",
      "0  0.314352  8.007326  76.968500  0.907889  0.412342\n",
      "1  0.459742  7.849012  30.537714  0.624878  0.631839\n",
      "2  0.836611  7.093294  36.407308  0.129201  0.370548\n"
     ]
    }
   ],
   "source": [
    "from transformnd.adapters.pandas import DataFrameAdapter\n",
    "import pandas as pd\n",
    "\n",
    "df = pd.DataFrame(\n",
    "    np.random.random((3, 5)),\n",
    "    columns=[\"x\", \"y\", \"z\", \"radius\", \"weight\"],\n",
    ")\n",
    "print(\"original\")\n",
    "print(df)\n",
    "xyz_adapter = DataFrameAdapter([\"x\", \"y\", \"z\"])\n",
    "scale3d = Scale([1, 10, 100])\n",
    "print(\"\\nscaled\")\n",
    "print(xyz_adapter(scale3d, df))"
   ]
  }
 ],
 "metadata": {
  "kernelspec": {
   "display_name": "Python 3.9.7 64-bit ('transformnd')",
   "language": "python",
   "name": "python3"
  },
  "language_info": {
   "codemirror_mode": {
    "name": "ipython",
    "version": 3
   },
   "file_extension": ".py",
   "mimetype": "text/x-python",
   "name": "python",
   "nbconvert_exporter": "python",
   "pygments_lexer": "ipython3",
   "version": "3.9.7"
  },
  "vscode": {
   "interpreter": {
    "hash": "e3f9341181f608bf712bcd70f5eaf12c5051639cc33e62101c7e8af3da61a8e4"
   }
  }
 },
 "nbformat": 4,
 "nbformat_minor": 2
}
